{
 "cells": [
  {
   "cell_type": "code",
   "execution_count": 2,
   "metadata": {
    "collapsed": false,
    "deletable": true,
    "editable": true
   },
   "outputs": [
    {
     "name": "stdout",
     "output_type": "stream",
     "text": [
      "--- miso を処理中\n",
      "--- sio を処理中\n",
      "--- tonkotsu を処理中\n",
      "--- shouyu を処理中\n",
      "ok, 2000\n"
     ]
    }
   ],
   "source": [
    "from sklearn import cross_validation\n",
    "from PIL import Image\n",
    "import os, glob\n",
    "import numpy as np\n",
    "\n",
    "# 分類対象のカテゴリを選ぶ --- (※1)\n",
    "root_dir = \"F:/ramen_img100\"\n",
    "categories = [\"miso\", \"sio\", \"tonkotsu\", \"shouyu\"]\n",
    "nb_classes = len(categories)\n",
    "image_size = 150\n",
    "\n",
    "# フォルダごとの画像データを読み込む --- (※2)\n",
    "X = [] # 画像データ\n",
    "Y = [] # ラベルデータ\n",
    "for idx, cat in enumerate(categories):\n",
    "    image_dir = root_dir + \"/\" + cat\n",
    "    files = glob.glob(image_dir + \"/*.png\")\n",
    "    print(\"---\", cat, \"を処理中\")\n",
    "    for i, f in enumerate(files):\n",
    "        img = Image.open(f)\n",
    "        img = img.convert(\"RGB\") # カラーモードの変更\n",
    "        img = img.resize((image_size, image_size)) # 画像サイズの変更\n",
    "        data = np.asarray(img)\n",
    "        X.append(data)\n",
    "        Y.append(idx)\n",
    "X = np.array(X)\n",
    "Y = np.array(Y)\n",
    "\n",
    "# 学習データとテストデータを分ける --- (※3)\n",
    "X_train, X_test, y_train, y_test = \\\n",
    "    cross_validation.train_test_split(X, Y)\n",
    "xy = (X_train, X_test, y_train, y_test)\n",
    "np.save(\"F:/ramen_img100/4obj100.npy\", xy)\n",
    "print(\"ok,\", len(Y))\n"
   ]
  },
  {
   "cell_type": "code",
   "execution_count": 2,
   "metadata": {
    "collapsed": false,
    "deletable": true,
    "editable": true
   },
   "outputs": [
    {
     "data": {
      "text/plain": [
       "(4000, 150, 150, 3)"
      ]
     },
     "execution_count": 2,
     "metadata": {},
     "output_type": "execute_result"
    }
   ],
   "source": [
    "X.shape"
   ]
  },
  {
   "cell_type": "code",
   "execution_count": 2,
   "metadata": {
    "collapsed": false,
    "deletable": true,
    "editable": true
   },
   "outputs": [
    {
     "ename": "ImportError",
     "evalue": "cannot import name 'NUMPY_MKL'",
     "output_type": "error",
     "traceback": [
      "\u001b[1;31m---------------------------------------------------------------------------\u001b[0m",
      "\u001b[1;31mImportError\u001b[0m                               Traceback (most recent call last)",
      "\u001b[1;32m<ipython-input-2-4a64aa8a2e1a>\u001b[0m in \u001b[0;36m<module>\u001b[1;34m()\u001b[0m\n\u001b[1;32m----> 1\u001b[1;33m \u001b[1;32mfrom\u001b[0m \u001b[0mnumpy\u001b[0m\u001b[1;33m.\u001b[0m\u001b[0m_distributor_init\u001b[0m \u001b[1;32mimport\u001b[0m \u001b[0mNUMPY_MKL\u001b[0m\u001b[1;33m\u001b[0m\u001b[0m\n\u001b[0m",
      "\u001b[1;31mImportError\u001b[0m: cannot import name 'NUMPY_MKL'"
     ]
    }
   ],
   "source": [
    "from numpy._distributor_init import NUMPY_MKL "
   ]
  }
 ],
 "metadata": {
  "kernelspec": {
   "display_name": "Python 3",
   "language": "python",
   "name": "python3"
  },
  "language_info": {
   "codemirror_mode": {
    "name": "ipython",
    "version": 3
   },
   "file_extension": ".py",
   "mimetype": "text/x-python",
   "name": "python",
   "nbconvert_exporter": "python",
   "pygments_lexer": "ipython3",
   "version": "3.5.3"
  }
 },
 "nbformat": 4,
 "nbformat_minor": 2
}
