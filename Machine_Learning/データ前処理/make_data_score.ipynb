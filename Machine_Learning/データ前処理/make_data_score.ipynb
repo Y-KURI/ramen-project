{
 "cells": [
  {
   "cell_type": "code",
   "execution_count": 1,
   "metadata": {
    "collapsed": false,
    "deletable": true,
    "editable": true
   },
   "outputs": [
    {
     "name": "stderr",
     "output_type": "stream",
     "text": [
      "F:\\.anaconda\\envs\\tensorflow\\lib\\site-packages\\sklearn\\cross_validation.py:44: DeprecationWarning: This module was deprecated in version 0.18 in favor of the model_selection module into which all the refactored classes and functions are moved. Also note that the interface of the new CV iterators are different from that of this module. This module will be removed in 0.20.\n",
      "  \"This module will be removed in 0.20.\", DeprecationWarning)\n"
     ]
    },
    {
     "name": "stdout",
     "output_type": "stream",
     "text": [
      "--- class1 を処理中\n",
      "--- class2 を処理中\n",
      "--- class3 を処理中\n",
      "--- class4 を処理中\n",
      "--- class5 を処理中\n",
      "--- class6 を処理中\n",
      "--- class7 を処理中\n",
      "--- class8 を処理中\n",
      "ok, 800\n"
     ]
    }
   ],
   "source": [
    "from sklearn import cross_validation\n",
    "from PIL import Image\n",
    "import os, glob\n",
    "import numpy as np\n",
    "\n",
    "# 分類対象のカテゴリを選ぶ --- (※1)\n",
    "root_dir = \"F:/ramen_img100\"\n",
    "classes = [\"class1\", \"class2\", \"class3\", \"class4\", \"class5\", \"class6\", \"class7\", \"class8\"]\n",
    "nb_classes = len(classes)\n",
    "image_size = 50\n",
    "\n",
    "# フォルダごとの画像データを読み込む --- (※2)\n",
    "X = [] # 画像データ\n",
    "Y = [] # ラベルデータ\n",
    "for idx, cla in enumerate(classes):\n",
    "    image_dir = root_dir + \"/\" + cla\n",
    "    files = glob.glob(image_dir + \"/*.png\")\n",
    "    print(\"---\", cla, \"を処理中\")\n",
    "    for i, f in enumerate(files):\n",
    "        img = Image.open(f)\n",
    "        img = img.convert(\"RGB\") # カラーモードの変更\n",
    "        img = img.resize((image_size, image_size)) # 画像サイズの変更\n",
    "        data = np.asarray(img)\n",
    "        X.append(data)\n",
    "        Y.append(idx)\n",
    "X = np.array(X)\n",
    "Y = np.array(Y)\n",
    "\n",
    "# 学習データとテストデータを分ける --- (※3)\n",
    "X_train, X_test, y_train, y_test = \\\n",
    "    cross_validation.train_test_split(X, Y)\n",
    "xy = (X_train, X_test, y_train, y_test)\n",
    "np.save(\"F:/ramen_img100/4obj100.npy\", xy)\n",
    "print(\"ok,\", len(Y))\n"
   ]
  },
  {
   "cell_type": "code",
   "execution_count": 6,
   "metadata": {
    "collapsed": false
   },
   "outputs": [
    {
     "name": "stdout",
     "output_type": "stream",
     "text": [
      "--- 新しいフォルダー を処理中\n"
     ]
    },
    {
     "data": {
      "text/plain": [
       "'\\n# 学習データとテストデータを分ける --- (※3)\\nX_train, X_test, y_train, y_test =     cross_validation.train_test_split(X, Y)\\nxy = (X_train, X_test, y_train, y_test)\\nnp.save(\"F:/ramen_img100/4obj100.npy\", xy)\\nprint(\"ok,\", len(Y))\\n'"
      ]
     },
     "execution_count": 6,
     "metadata": {},
     "output_type": "execute_result"
    }
   ],
   "source": [
    "from sklearn import cross_validation\n",
    "from PIL import Image\n",
    "import os, glob\n",
    "import numpy as np\n",
    "\n",
    "# 分類対象のカテゴリを選ぶ --- (※1)\n",
    "root_dir = \"F:/ramen_img100\"\n",
    "classes = [\"新しいフォルダー\"]\n",
    "nb_classes = len(classes)\n",
    "image_size = 1000\n",
    "\n",
    "# フォルダごとの画像データを読み込む --- (※2)\n",
    "X = [] # 画像データ\n",
    "Y = [] # ラベルデータ\n",
    "for idx, cla in enumerate(classes):\n",
    "    image_dir = root_dir + \"/\" + cla\n",
    "    files = glob.glob(image_dir + \"/*.png\")\n",
    "    print(\"---\", cla, \"を処理中\")\n",
    "    for i, f in enumerate(files):\n",
    "        img = Image.open(f)\n",
    "        img.show()\n",
    "        img = img.convert(\"RGB\") # カラーモードの変更\n",
    "        img = img.resize((image_size, image_size)) # 画像サイズの変更\n",
    "        img.show()\n",
    "\n",
    "\"\"\"\n",
    "# 学習データとテストデータを分ける --- (※3)\n",
    "X_train, X_test, y_train, y_test = \\\n",
    "    cross_validation.train_test_split(X, Y)\n",
    "xy = (X_train, X_test, y_train, y_test)\n",
    "np.save(\"F:/ramen_img100/4obj100.npy\", xy)\n",
    "print(\"ok,\", len(Y))\n",
    "\"\"\""
   ]
  }
 ],
 "metadata": {
  "kernelspec": {
   "display_name": "Python 3",
   "language": "python",
   "name": "python3"
  },
  "language_info": {
   "codemirror_mode": {
    "name": "ipython",
    "version": 3
   },
   "file_extension": ".py",
   "mimetype": "text/x-python",
   "name": "python",
   "nbconvert_exporter": "python",
   "pygments_lexer": "ipython3",
   "version": "3.5.3"
  }
 },
 "nbformat": 4,
 "nbformat_minor": 2
}
